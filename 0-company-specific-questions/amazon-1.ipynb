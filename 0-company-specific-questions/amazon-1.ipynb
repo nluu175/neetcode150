{
 "cells": [
  {
   "cell_type": "markdown",
   "metadata": {},
   "source": [
    "# Is Special Sequence [Amazon]\n",
    "\n",
    "Data scientists at Amazon are working on a utility for genome sequencing algorithms that look for palindromic patterns in DNA sequence strings.\n",
    "\n",
    "A DNA sequence string is considered special if it can be divided into two non-empty substrings such that the resulting strings can be rearranged to form palindromes after removing at most one character from each of them.\n",
    "\n",
    "Given a string, dna_sequence, return the string \"YES\" if it is a special sequence and \"NO\" otherwise.\n",
    "\n",
    "Note: A substring is defined as any contiguous segment of a string. A palindrome is a string that reads the same forwards and backwards such as \"abccba\", \"aba\", \"b\", and \"ccc\".\n",
    "\n",
    "## Function Description\n",
    "\n",
    "Complete the function `isSpecialSequence` in the editor below.\n",
    "\n",
    "`isSpecialSequence` takes the following arguments:\n",
    "\n",
    "`str` `dna_sequence`: the given string of dna sequence\n",
    "Returns\n",
    "\n",
    "`string`: \"YES\" if the given sequence is special and \"NO\" otherwise\n",
    "\n",
    "## Example 1:\n",
    "\n",
    "Input:  dna_sequence = \"abcad\"\n",
    "Output: \"YES\" \n",
    "Explanation:\n",
    "\n",
    "\n",
    "      \n",
    "Thus the answer is \"YES\".\n",
    "\n",
    "      \n",
    "Constraints:\n",
    "1 ≤ length(dna_sequence) ≤ 3 * 10^5\n",
    "It is guaranteed that the sequence consists of lowercase English characters only."
   ]
  },
  {
   "cell_type": "markdown",
   "metadata": {},
   "source": [
    "So basically we are allowed to remove at most 1 character.\n",
    "Check if the input string can be splitted into 2 seperated substrings that are both palindromes.\n",
    "\n",
    "Brute Force should be running loop to split the string and run palindrome check on each substring (takes O(n) each)\n",
    "\n",
    "this is not removing any char.\n",
    "```py\n",
    "\tfirst = dna_sequence[:i]\n",
    "\tsecond = dna_sequence[i:]\n",
    "```\n",
    "\n",
    "this is removing char at i\n",
    "\n",
    "```py\n",
    "\tfirst = dna_sequence[:i]\n",
    "\tsecond = dna_sequence[i+1:]\n",
    "```"
   ]
  },
  {
   "cell_type": "code",
   "execution_count": 2,
   "metadata": {},
   "outputs": [
    {
     "name": "stdout",
     "output_type": "stream",
     "text": [
      "ab ba\n"
     ]
    }
   ],
   "source": [
    "#\t\t\t\t01234\n",
    "dna_sequence = \"abcba\"\n",
    "i = 2\n",
    "first = dna_sequence[:i]\n",
    "second = dna_sequence[i+1:]\n",
    "print(first, second)"
   ]
  }
 ],
 "metadata": {
  "kernelspec": {
   "display_name": "Python 3",
   "language": "python",
   "name": "python3"
  },
  "language_info": {
   "codemirror_mode": {
    "name": "ipython",
    "version": 3
   },
   "file_extension": ".py",
   "mimetype": "text/x-python",
   "name": "python",
   "nbconvert_exporter": "python",
   "pygments_lexer": "ipython3",
   "version": "3.12.0"
  }
 },
 "nbformat": 4,
 "nbformat_minor": 2
}
