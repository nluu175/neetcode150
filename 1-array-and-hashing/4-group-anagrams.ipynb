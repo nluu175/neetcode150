{
 "cells": [
  {
   "cell_type": "markdown",
   "metadata": {},
   "source": [
    "# Anagram Groups\n",
    "Given an array of strings strs, group all anagrams together into sublists. You may return the output in any order.\n",
    "\n",
    "An anagram is a string that contains the exact same characters as another string, but the order of the characters can be different.\n",
    "\n",
    "## Example 1:\n",
    "\n",
    "Input: strs = [\"act\",\"pots\",\"tops\",\"cat\",\"stop\",\"hat\"]\n",
    "\n",
    "Output: [[\"hat\"],[\"act\", \"cat\"],[\"stop\", \"pots\", \"tops\"]]\n",
    "## Example 2:\n",
    "\n",
    "Input: strs = [\"x\"]\n",
    "\n",
    "Output: [[\"x\"]]\n",
    "## Example 3:\n",
    "\n",
    "Input: strs = [\"\"]\n",
    "\n",
    "Output: [[\"\"]]\n",
    "Constraints:\n",
    "\n",
    "1 <= strs.length <= 1000.\n",
    "0 <= strs[i].length <= 100\n",
    "strs[i] is made up of lowercase English letters.\n"
   ]
  },
  {
   "cell_type": "code",
   "execution_count": null,
   "metadata": {},
   "outputs": [
    {
     "name": "stdout",
     "output_type": "stream",
     "text": [
      "[1, 0, 1, 0, 0, 0, 0, 0, 0, 0, 0, 0, 0, 0, 0, 0, 0, 0, 0, 1, 0, 0, 0, 0, 0, 0] act\n",
      "[0, 0, 0, 0, 0, 0, 0, 0, 0, 0, 0, 0, 0, 0, 1, 1, 0, 0, 1, 1, 0, 0, 0, 0, 0, 0] pots\n",
      "[0, 0, 0, 0, 0, 0, 0, 0, 0, 0, 0, 0, 0, 0, 1, 1, 0, 0, 1, 1, 0, 0, 0, 0, 0, 0] tops\n",
      "[1, 0, 1, 0, 0, 0, 0, 0, 0, 0, 0, 0, 0, 0, 0, 0, 0, 0, 0, 1, 0, 0, 0, 0, 0, 0] cat\n",
      "[0, 0, 0, 0, 0, 0, 0, 0, 0, 0, 0, 0, 0, 0, 1, 1, 0, 0, 1, 1, 0, 0, 0, 0, 0, 0] stop\n",
      "[1, 0, 0, 0, 0, 0, 0, 1, 0, 0, 0, 0, 0, 0, 0, 0, 0, 0, 0, 1, 0, 0, 0, 0, 0, 0] hat\n",
      "dict_values([['act', 'cat'], ['pots', 'tops', 'stop'], ['hat']])\n"
     ]
    }
   ],
   "source": [
    "from collections import defaultdict\n",
    "\n",
    "\n",
    "def solution(strs: str) -> list:\n",
    "    # defaultdict(list) means \"Defining a dictionary with values as a list\n",
    "    # we use defaultdict to avoid one edge cases where we have to check if the key exists or not\n",
    "    res = defaultdict(list)\n",
    "\n",
    "    for s in strs:  # takes m times\n",
    "        # `count` is the frequency of each letter in the string\n",
    "        count = [0] * 26\n",
    "\n",
    "        for c in s:  # takes average n times\n",
    "            # ord(c) - ord(\"a\") to get the index of the letter\n",
    "            # i.e. \"a\" has index of 0\n",
    "            count[ord(c) - ord(\"a\")] += 1\n",
    "\n",
    "        print(count, s)\n",
    "\n",
    "        res[tuple(count)].append(s)\n",
    "\n",
    "    return res.values()\n",
    "\n",
    "\n",
    "strs = [\"act\", \"pots\", \"tops\", \"cat\", \"stop\", \"hat\"]\n",
    "print(solution(strs))\n"
   ]
  },
  {
   "cell_type": "markdown",
   "metadata": {},
   "source": [
    "Time complexity is O(26 * m * n) ~ O(m * n) where\n",
    "\n",
    "- m is the length of the given string\n",
    "- n is the average length of each string\n",
    "\n",
    "Space complexity is\n"
   ]
  },
  {
   "cell_type": "code",
   "execution_count": null,
   "metadata": {},
   "outputs": [],
   "source": []
  },
  {
   "cell_type": "code",
   "execution_count": 16,
   "metadata": {},
   "outputs": [
    {
     "data": {
      "text/plain": [
       "defaultdict(list, {'food': ['eat']})"
      ]
     },
     "execution_count": 16,
     "metadata": {},
     "output_type": "execute_result"
    }
   ],
   "source": [
    "from collections import defaultdict\n",
    "\n",
    "list_1 = [\"eat\", \"tea\", \"tan\", \"ate\", \"nat\", \"bat\"]\n",
    "a = defaultdict(list)\n",
    "a[\"food\"].append(\"eat\")\n",
    "a"
   ]
  }
 ],
 "metadata": {
  "kernelspec": {
   "display_name": "Python 3",
   "language": "python",
   "name": "python3"
  },
  "language_info": {
   "codemirror_mode": {
    "name": "ipython",
    "version": 3
   },
   "file_extension": ".py",
   "mimetype": "text/x-python",
   "name": "python",
   "nbconvert_exporter": "python",
   "pygments_lexer": "ipython3",
   "version": "3.12.0"
  }
 },
 "nbformat": 4,
 "nbformat_minor": 2
}
