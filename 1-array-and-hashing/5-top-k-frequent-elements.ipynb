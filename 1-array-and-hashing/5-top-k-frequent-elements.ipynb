{
 "cells": [
  {
   "cell_type": "markdown",
   "metadata": {},
   "source": [
    "# Top K Elements in List\n",
    "Given an integer array nums and an integer k, return the k most frequent elements within the array.\n",
    "\n",
    "The test cases are generated such that the answer is always unique.\n",
    "\n",
    "You may return the output in any order.\n",
    "\n",
    "## Example 1:\n",
    "\n",
    "Input: nums = [1,2,2,3,3,3], k = 2\n",
    "\n",
    "Output: [2,3]\n",
    "## Example 2:\n",
    "\n",
    "Input: nums = [7,7], k = 1\n",
    "\n",
    "Output: [7]\n",
    "Constraints:\n",
    "\n",
    "1 <= nums.length <= 10^4.\n",
    "-1000 <= nums[i] <= 1000\n",
    "1 <= k <= number of distinct elements in nums."
   ]
  },
  {
   "cell_type": "markdown",
   "metadata": {},
   "source": [
    "We can use the frequency map. Then we keep track of min_frequency and max_frequency WITHIN k numbers.\n"
   ]
  },
  {
   "cell_type": "code",
   "execution_count": 4,
   "metadata": {},
   "outputs": [
    {
     "name": "stdout",
     "output_type": "stream",
     "text": [
      "[0, 0, 0]\n",
      "None\n"
     ]
    }
   ],
   "source": [
    "def my_solution(nums: list[int], k: int) -> int:\n",
    "    count = [0] * max(nums)\n",
    "\n",
    "    min_freq = 0\n",
    "    max_freq = 0\n",
    "\n",
    "    print(count)\n",
    "\n",
    "\n",
    "nums = [1, 2, 2, 3, 3, 3]\n",
    "k = 2\n",
    "\n",
    "print(my_solution(nums, k))\n"
   ]
  },
  {
   "cell_type": "code",
   "execution_count": null,
   "metadata": {},
   "outputs": [],
   "source": [
    "from typing import List\n",
    "\n",
    "\n",
    "def nc_sol(nums: List[int], k: int) -> List[int]:\n",
    "    # use max heap\n",
    "    # TODO: review MAX HEAP: binary tree where the value of a node is greater than or equal to the values of its children\n",
    "    # https://www.digitalocean.com/community/tutorials/max-heap-java\n",
    "    # - add nums to heap, takes O(n) [Heapify]\n",
    "    # - pop k time, each takes log(n). Total k * log(n)\n",
    "\n",
    "    # Can do better in O(n) time and O(n) space\n",
    "    # TODO: Bucket Sort\n",
    "    # use array with the indices being the count and element at that index being\n",
    "    # the list of numbers with that frequency\n",
    "    # the array is now bounded because the largest index should be the length of nums\n",
    "    count = {}\n",
    "\n",
    "    # this one is initialized as a list with len(nums) element\n",
    "    # this list is used to track the number with the count\n",
    "    # NOTE: We do +1 because the frequency can be 0\n",
    "    freq = [[] for i in range(len(nums) + 1)]\n",
    "\n",
    "    # make count dict\n",
    "    for n in nums:\n",
    "        count[n] = 1 + count.get(n, 0)\n",
    "\n",
    "    # iterate the dictionary\n",
    "    for n, c in count.items():\n",
    "        freq[c].append(n)\n",
    "\n",
    "    res = []\n",
    "\n",
    "    # --- iterate the freq list from the end\n",
    "    # As we traverse through the array, we go through the whole array.\n",
    "    # So this is O(n). But we aren't doing an operation n times at each stop.\n",
    "    # We are doing N more operation throughout the entire array.\n",
    "    # So even though the for loops are nested, we are doing N more operations throughout a for loop\n",
    "    # which is N, so the total is just N+N, which simplifies to O(N)\n",
    "    for i in range(len(freq) - 1, 0, -1):\n",
    "        for n in freq[i]:\n",
    "            res.append(n)\n",
    "            if len(res) == k:\n",
    "                return res\n",
    "\n",
    "    return res"
   ]
  },
  {
   "cell_type": "markdown",
   "metadata": {},
   "source": [
    "So basically we create a `count` dictionary to track the frequency of all the elements in the array.\n",
    "Then, create a `freq` array with i-th index being the list of all elements with i frequency.\n",
    "We then add from `count` to `freq`. Then iterate `freq` backwards to get k elements."
   ]
  },
  {
   "cell_type": "code",
   "execution_count": 7,
   "metadata": {},
   "outputs": [
    {
     "data": {
      "text/plain": [
       "[[], [], [], [], [], [], []]"
      ]
     },
     "execution_count": 7,
     "metadata": {},
     "output_type": "execute_result"
    }
   ],
   "source": [
    "nums = [1, 2, 2, 3, 3, 3]\n",
    "freq = [[] for i in range(len(nums) + 1)]\n",
    "freq\n"
   ]
  },
  {
   "cell_type": "code",
   "execution_count": null,
   "metadata": {},
   "outputs": [],
   "source": []
  }
 ],
 "metadata": {
  "kernelspec": {
   "display_name": "Python 3",
   "language": "python",
   "name": "python3"
  },
  "language_info": {
   "codemirror_mode": {
    "name": "ipython",
    "version": 3
   },
   "file_extension": ".py",
   "mimetype": "text/x-python",
   "name": "python",
   "nbconvert_exporter": "python",
   "pygments_lexer": "ipython3",
   "version": "3.12.0"
  }
 },
 "nbformat": 4,
 "nbformat_minor": 2
}
