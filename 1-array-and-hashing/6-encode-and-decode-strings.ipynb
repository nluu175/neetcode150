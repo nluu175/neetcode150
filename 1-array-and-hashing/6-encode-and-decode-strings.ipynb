{
 "cells": [
  {
   "cell_type": "markdown",
   "metadata": {},
   "source": [
    "# Encode and decode strings\n",
    "\n",
    "Design an algorithm to encode a list of strings to a single string. The encoded string is then decoded back to the original list of strings.\n",
    "\n",
    "Please implement encode and decode\n",
    "\n",
    "## Example 1:\n",
    "\n",
    "Input: [\"neet\",\"code\",\"love\",\"you\"]\n",
    "\n",
    "Output:[\"neet\",\"code\",\"love\",\"you\"]\n",
    "\n",
    "## Example 2:\n",
    "\n",
    "Input: [\"we\",\"say\",\":\",\"yes\"]\n",
    "\n",
    "Output: [\"we\",\"say\",\":\",\"yes\"]\n",
    "\n",
    "## Constraints:\n",
    "\n",
    "`0 <= strs.length < 100`\n",
    "`0 <= strs[i].length < 200`\n",
    "`strs[i]` contains only UTF-8 characters.\n"
   ]
  },
  {
   "cell_type": "markdown",
   "metadata": {},
   "source": [
    "This should be easy. We can any splitter in between when we convert list into string.\n"
   ]
  },
  {
   "cell_type": "code",
   "execution_count": 8,
   "metadata": {},
   "outputs": [
    {
     "name": "stdout",
     "output_type": "stream",
     "text": [
      "neet:;code:;love:;you\n",
      "['neet', 'code', 'love', 'you']\n"
     ]
    }
   ],
   "source": [
    "from typing import List\n",
    "\n",
    "strs = [\"neet\", \"code\", \"love\", \"you\"]\n",
    "\n",
    "\n",
    "def encode(strs):\n",
    "    return \":;\".join(strs)\n",
    "\n",
    "\n",
    "def decode(s):\n",
    "    return s.split(\":;\")\n",
    "\n",
    "\n",
    "s = encode(strs)\n",
    "print(s)\n",
    "\n",
    "strs = decode(s)\n",
    "print(strs)\n",
    "# strs_res = decode(s)\n",
    "\n",
    "# print(strs_res)"
   ]
  },
  {
   "cell_type": "code",
   "execution_count": null,
   "metadata": {},
   "outputs": [],
   "source": []
  }
 ],
 "metadata": {
  "kernelspec": {
   "display_name": "Python 3",
   "language": "python",
   "name": "python3"
  },
  "language_info": {
   "codemirror_mode": {
    "name": "ipython",
    "version": 3
   },
   "file_extension": ".py",
   "mimetype": "text/x-python",
   "name": "python",
   "nbconvert_exporter": "python",
   "pygments_lexer": "ipython3",
   "version": "3.12.0"
  }
 },
 "nbformat": 4,
 "nbformat_minor": 2
}
