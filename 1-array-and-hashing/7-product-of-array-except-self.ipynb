{
 "cells": [
  {
   "cell_type": "markdown",
   "metadata": {},
   "source": [
    "# Products of Array Discluding Self\n",
    "\n",
    "Given an integer array nums, return an array output where output[i] is the product of all the elements of nums except nums[i].\n",
    "\n",
    "Each product is guaranteed to fit in a 32-bit integer.\n",
    "\n",
    "Follow-up: Could you solve it in O(n) time without using the division operation?\n",
    "\n",
    "## Example 1:\n",
    "\n",
    "Input: `nums = [1,2,4,6]`\n",
    "\n",
    "Output: `[48,24,12,8]`\n",
    "Example 2:\n",
    "\n",
    "Input: `nums = [-1,0,1,2,3]`\n",
    "\n",
    "Output: `[0,-6,0,0,0]`\n",
    "Constraints:\n",
    "\n",
    "```\n",
    "2 <= nums.length <= 1000\n",
    "-20 <= nums[i] <= 20\n",
    "```\n"
   ]
  },
  {
   "cell_type": "markdown",
   "metadata": {},
   "source": [
    "At first, we can do this brute force by doing nested loops, aka. O(n^2) time complexity\n",
    "\n",
    "`index`\t\t0\t1\t2\t3\n",
    "-------------------------\n",
    "`nums` \t\t1 \t2 \t4 \t6\n",
    "-------------------------\n",
    "`prefix`\t1 \t1\t2 \t8\t[product of all numbers pre `index`]\n",
    "`postfix`\t48\t24\t6\t1\t[product of all numbers post `index`]\n",
    "-------------------------\n",
    "`res`\t\t48\t24\t12\t8\t[res[i] = prefix[i] * postP[i]]\n",
    "\n",
    "Then how do we find `prefix`? `prefix` is an array. We do a loop over `nums` to find it.\n",
    "Similarly, we do another loop over `nums` to find `postP`.\n",
    "These will take 2*O(n) time.\n",
    "Then we do another loop to get the result. This will take 3*O(n) space\n",
    "\n",
    "Can we do better?\n",
    "- We can probably calculate res during the loop we count postP. So less space?"
   ]
  },
  {
   "cell_type": "code",
   "execution_count": null,
   "metadata": {},
   "outputs": [],
   "source": [
    "from typing import List\n",
    "\n",
    "\n",
    "def ncsol(nums: List[int]) -> List[int]:\n",
    "    # two extra arrays of prefix and postfix products\n",
    "    # O(n) time and space\n",
    "\n",
    "    # We can remove those 2 arrays\n",
    "    # do 2 passes, first pass do the prefix\n",
    "    # 2nd pass do the postfix then multiply\n",
    "    res = [1] * (len(nums))\n",
    "\n",
    "    prefix = 1\n",
    "    for i in range(len(nums)):\n",
    "        res[i] = prefix\n",
    "        prefix *= nums[i]\n",
    "\n",
    "    postfix = 1\n",
    "    for i in range(len(nums) - 1, -1, -1):\n",
    "        res[i] *= postfix\n",
    "        postfix *= nums[i]\n",
    "\n",
    "    return res"
   ]
  }
 ],
 "metadata": {
  "kernelspec": {
   "display_name": "Python 3",
   "language": "python",
   "name": "python3"
  },
  "language_info": {
   "name": "python",
   "version": "3.12.0"
  }
 },
 "nbformat": 4,
 "nbformat_minor": 2
}
