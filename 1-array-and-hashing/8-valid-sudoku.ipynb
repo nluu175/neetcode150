{
 "cells": [
  {
   "cell_type": "markdown",
   "metadata": {},
   "source": [
    "# Valid Sudoku\n",
    "\n",
    "You are given a a 9 x 9 Sudoku board board. A Sudoku board is valid if the following rules are followed:\n",
    "\n",
    "Each row must contain the digits 1-9 without duplicates.\n",
    "Each column must contain the digits 1-9 without duplicates.\n",
    "Each of the nine 3 x 3 sub-boxes of the grid must contain the digits 1-9 without duplicates.\n",
    "Return true if the Sudoku board is valid, otherwise return false\n",
    "\n",
    "Note: A board does not need to be full or be solvable to be valid.\n",
    "\n",
    "## Example 1\n",
    "\n",
    "```\n",
    "Input: board =\n",
    "[[\"1\",\"2\",\".\",\".\",\"3\",\".\",\".\",\".\",\".\"],\n",
    " [\"4\",\".\",\".\",\"5\",\".\",\".\",\".\",\".\",\".\"],\n",
    " [\".\",\"9\",\"8\",\".\",\".\",\".\",\".\",\".\",\"3\"],\n",
    " [\"5\",\".\",\".\",\".\",\"6\",\".\",\".\",\".\",\"4\"],\n",
    " [\".\",\".\",\".\",\"8\",\".\",\"3\",\".\",\".\",\"5\"],\n",
    " [\"7\",\".\",\".\",\".\",\"2\",\".\",\".\",\".\",\"6\"],\n",
    " [\".\",\".\",\".\",\".\",\".\",\".\",\"2\",\".\",\".\"],\n",
    " [\".\",\".\",\".\",\"4\",\"1\",\"9\",\".\",\".\",\"8\"],\n",
    " [\".\",\".\",\".\",\".\",\"8\",\".\",\".\",\"7\",\"9\"]]\n",
    "\n",
    "Output: true\n",
    "```\n",
    "\n",
    "## Example 2\n",
    "\n",
    "```\n",
    "Input: board =\n",
    "[[\"1\",\"2\",\".\",\".\",\"3\",\".\",\".\",\".\",\".\"],\n",
    " [\"4\",\".\",\".\",\"5\",\".\",\".\",\".\",\".\",\".\"],\n",
    " [\".\",\"9\",\"1\",\".\",\".\",\".\",\".\",\".\",\"3\"],\n",
    " [\"5\",\".\",\".\",\".\",\"6\",\".\",\".\",\".\",\"4\"],\n",
    " [\".\",\".\",\".\",\"8\",\".\",\"3\",\".\",\".\",\"5\"],\n",
    " [\"7\",\".\",\".\",\".\",\"2\",\".\",\".\",\".\",\"6\"],\n",
    " [\".\",\".\",\".\",\".\",\".\",\".\",\"2\",\".\",\".\"],\n",
    " [\".\",\".\",\".\",\"4\",\"1\",\"9\",\".\",\".\",\"8\"],\n",
    " [\".\",\".\",\".\",\".\",\"8\",\".\",\".\",\"7\",\"9\"]]\n",
    "\n",
    "Output: false\n",
    "```\n"
   ]
  },
  {
   "cell_type": "markdown",
   "metadata": {},
   "source": [
    "We have to check:\n",
    "- row\n",
    "- column\n",
    "- 3x3 sub-boxes\n",
    "\n",
    "For row, that should be a loop\n",
    "\n",
    "```py\n",
    "for i in range(len(board)):\n",
    "\trow = board[i]\n",
    "\tcheckRow(board[i])\n",
    "```\n",
    "\n",
    "For col, that should be also a loop? but we check for board[i][j] -> board[i][8] (j -> 8)\n",
    "\n",
    "what should be an efficient way to check for sub-boxes"
   ]
  },
  {
   "cell_type": "code",
   "execution_count": null,
   "metadata": {},
   "outputs": [],
   "source": [
    "\"\"\"Brute force Solution\"\"\"\n",
    "\n",
    "\n",
    "class Solution:\n",
    "    def isValidSudoku(self, board: List[List[str]]) -> bool:\n",
    "        for row in range(9):\n",
    "            seen = set()\n",
    "            for i in range(9):\n",
    "                if board[row][i] == \".\":\n",
    "                    continue\n",
    "                if board[row][i] in seen:\n",
    "                    return False\n",
    "                seen.add(board[row][i])\n",
    "\n",
    "        for col in range(9):\n",
    "            seen = set()\n",
    "            for i in range(9):\n",
    "                if board[i][col] == \".\":\n",
    "                    continue\n",
    "                if board[i][col] in seen:\n",
    "                    return False\n",
    "                seen.add(board[i][col])\n",
    "\n",
    "        # There are 9 squares of 3x3 in a 9x9 sudoku board.\n",
    "        # We need to check each of these squares for duplicates.\n",
    "        # It can be visualized as follows:\n",
    "        # 0 1 2\n",
    "        # 3 4 5\n",
    "        # 6 7 8\n",
    "        for square in range(9):\n",
    "            seen = set()\n",
    "            for i in range(3):\n",
    "                for j in range(3):\n",
    "                    row = (square // 3) * 3 + i\n",
    "                    col = (square % 3) * 3 + j\n",
    "                    if board[row][col] == \".\":\n",
    "                        continue\n",
    "                    if board[row][col] in seen:\n",
    "                        return False\n",
    "                    seen.add(board[row][col])\n",
    "        return True"
   ]
  },
  {
   "cell_type": "code",
   "execution_count": 1,
   "metadata": {},
   "outputs": [
    {
     "data": {
      "text/plain": [
       "0"
      ]
     },
     "execution_count": 1,
     "metadata": {},
     "output_type": "execute_result"
    }
   ],
   "source": [
    "0//3"
   ]
  },
  {
   "cell_type": "markdown",
   "metadata": {},
   "source": [
    "```py\n",
    "for square in range(9):\n",
    "\tseen = set()\n",
    "\tfor i in range(3):\n",
    "\t\tfor j in range(3):\n",
    "\t\t\trow = (square // 3) * 3 + i\n",
    "\t\t\tcol = (square % 3) * 3 + j\n",
    "\t\t\tif board[row][col] == \".\":\n",
    "\t\t\t\tcontinue\n",
    "\t\t\tif board[row][col] in seen:\n",
    "\t\t\t\treturn False\n",
    "\t\t\tseen.add(board[row][col])\n",
    "```\n",
    "\n",
    "square = 0; i = 0; j = 0: row = (0 // 3) * 3 + 0 = 0; col = (0 % 3) * 3 + 0 = 0\n",
    "square = 0; i = 0; j = 1: row = (0 // 3) * 3 + 0 = 0; col = (0 % 3) * 3 + 1 = 1\n",
    "square = 0; i = 0; j = 2: row = (0 // 3) * 3 + 0 = 0; col = (0 % 3) * 3 + 2 = 2\n"
   ]
  },
  {
   "cell_type": "code",
   "execution_count": null,
   "metadata": {},
   "outputs": [],
   "source": [
    "\"\"\"Hashset Solution\"\"\"\n",
    "from collections import defaultdict\n",
    "\n",
    "\n",
    "class Solution:\n",
    "    def isValidSudoku(self, board: List[List[str]]) -> bool:\n",
    "        cols = defaultdict(set)\n",
    "        rows = defaultdict(set)\n",
    "        squares = defaultdict(set)\n",
    "\n",
    "        for r in range(9):\n",
    "            for c in range(9):\n",
    "                if board[r][c] == \".\":\n",
    "                    continue\n",
    "                if (\n",
    "                    board[r][c] in rows[r]\n",
    "                    or board[r][c] in cols[c]\n",
    "                    or board[r][c] in squares[(r // 3, c // 3)]\n",
    "                ):\n",
    "                    return False\n",
    "\n",
    "                cols[c].add(board[r][c])\n",
    "                rows[r].add(board[r][c])\n",
    "                squares[(r // 3, c // 3)].add(board[r][c])\n",
    "\n",
    "        return True"
   ]
  },
  {
   "cell_type": "markdown",
   "metadata": {},
   "source": [
    "TODO: NEED TO REVIEW THIS BITMASKS SOLUTION\n",
    "Check out this [article][def]\n",
    "\n",
    "[def]: https://www.autoitscript.com/forum/topic/203047-a-bitmask-based-sudoku-solver/#:~:text=A%20valid%20sudoku%20solution%20contains,rows%20and%2For%20block%20columns.\n"
   ]
  },
  {
   "cell_type": "code",
   "execution_count": null,
   "metadata": {},
   "outputs": [],
   "source": [
    "\"\"\"Bitmask Solution\"\"\"\n",
    "\n",
    "\n",
    "class Solution:\n",
    "    def isValidSudoku(self, board: List[List[str]]) -> bool:\n",
    "        rows = [0] * 9\n",
    "        cols = [0] * 9\n",
    "        squares = [0] * 9\n",
    "\n",
    "        for r in range(9):  # row\n",
    "            for c in range(9):  # column\n",
    "                if board[r][c] == \".\":  # skip empty cells\n",
    "                    continue\n",
    "\n",
    "                # we do -1 to convert the Sudoku numbers (1-9) into 0-based indices (0-8) for bit manipulation.\n",
    "                val = int(board[r][c]) - 1\n",
    "                if (1 << val) & rows[r]:\n",
    "                    return False\n",
    "                if (1 << val) & cols[c]:\n",
    "                    return False\n",
    "                if (1 << val) & squares[(r // 3) * 3 + (c // 3)]:\n",
    "                    return False\n",
    "\n",
    "                rows[r] |= 1 << val\n",
    "                cols[c] |= 1 << val\n",
    "                squares[(r // 3) * 3 + (c // 3)] |= 1 << val\n",
    "\n",
    "        return True"
   ]
  },
  {
   "cell_type": "markdown",
   "metadata": {},
   "source": [
    "`x << y` (left shift)\n",
    "Returns x with the bits shifted to the left by y places (and new bits on the right-hand-side are zeros). This is the same as multiplying x by 2**y.\n",
    "`x >> y` (right shift)\n",
    "Returns x with the bits shifted to the right by y places. This is the same as //'ing x by 2**y.\n"
   ]
  },
  {
   "cell_type": "code",
   "execution_count": null,
   "metadata": {},
   "outputs": [
    {
     "data": {
      "text/plain": [
       "6"
      ]
     },
     "execution_count": 5,
     "metadata": {},
     "output_type": "execute_result"
    }
   ],
   "source": [
    "# Test\n",
    "3 << 1\n",
    "\n",
    "# ~ 00000011 << 1\n",
    "# ~ 00000110"
   ]
  }
 ],
 "metadata": {
  "kernelspec": {
   "display_name": "Python 3",
   "language": "python",
   "name": "python3"
  },
  "language_info": {
   "codemirror_mode": {
    "name": "ipython",
    "version": 3
   },
   "file_extension": ".py",
   "mimetype": "text/x-python",
   "name": "python",
   "nbconvert_exporter": "python",
   "pygments_lexer": "ipython3",
   "version": "3.12.0"
  }
 },
 "nbformat": 4,
 "nbformat_minor": 2
}
