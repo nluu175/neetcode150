{
 "cells": [
  {
   "cell_type": "markdown",
   "metadata": {},
   "source": [
    "# Longest Consecutive Sequence\n",
    "\n",
    "Given an array of integers nums, return the length of the longest consecutive sequence of elements.\n",
    "\n",
    "A consecutive sequence is a sequence of elements in which each element is exactly 1 greater than the previous element.\n",
    "\n",
    "You must write an algorithm that runs in O(n) time.\n",
    "\n",
    "## Example 1:\n",
    "\n",
    "Input: nums = [2,20,4,10,3,4,5]\n",
    "\n",
    "Output: 4\n",
    "Explanation: The longest consecutive sequence is [2, 3, 4, 5].\n",
    "\n",
    "## Example 2:\n",
    "\n",
    "Input: nums = [0,3,2,5,4,6,1,1]\n",
    "\n",
    "Output: 7\n",
    "Constraints:\n",
    "\n",
    "0 <= nums.length <= 1000\n",
    "-10^9 <= nums[i] <= 10^9\n"
   ]
  },
  {
   "cell_type": "code",
   "execution_count": 9,
   "metadata": {},
   "outputs": [
    {
     "name": "stdout",
     "output_type": "stream",
     "text": [
      "0 1\n",
      "1 1\n",
      "2 1\n"
     ]
    }
   ],
   "source": [
    "print(1 // 3, 1 % 3)\n",
    "print(4 // 3, 4 % 3)\n",
    "print(7 // 3, 7 % 3)"
   ]
  },
  {
   "cell_type": "code",
   "execution_count": null,
   "metadata": {},
   "outputs": [],
   "source": [
    "# sorting approach\n",
    "class Solution:\n",
    "    def longestConsecutive(self, nums: List[int]) -> int:\n",
    "        if not nums:\n",
    "            return 0\n",
    "        res = 0\n",
    "        nums.sort()\n",
    "        \n",
    "        curr, streak = nums[0], 0\n",
    "        i = 0\n",
    "        while i < len(nums):\n",
    "            if curr != nums[i]:\n",
    "                curr = nums[i]\n",
    "                streak = 0\n",
    "            while i < len(nums) and nums[i] == curr:\n",
    "                i += 1\n",
    "            streak += 1\n",
    "            curr += 1\n",
    "            res = max(res, streak)\n",
    "        return res"
   ]
  },
  {
   "cell_type": "code",
   "execution_count": null,
   "metadata": {},
   "outputs": [],
   "source": [
    "# Hash Set approach\n",
    "class Solution:\n",
    "    def longestConsecutive(self, nums: List[int]) -> int:\n",
    "        numSet = set(nums)\n",
    "        longest = 0\n",
    "\n",
    "        for num in numSet:\n",
    "            if (num - 1) not in numSet: # meaning, it's the start of a sequence\n",
    "                length = 1\n",
    "                while (num + length) in numSet:\n",
    "                    length += 1\n",
    "                longest = max(length, longest)\n",
    "        return longest"
   ]
  },
  {
   "cell_type": "markdown",
   "metadata": {},
   "source": [
    "The idea is we get the set of `nums` then check for the start of each sequence (by check if the left neighbour exist). \n",
    "This is a hash set so it only takes O(1) to check if a value exists. \n",
    "Then check for the right neighbour.\n",
    "\n",
    "Time: O(n)\n",
    "Space: O(n)"
   ]
  }
 ],
 "metadata": {
  "kernelspec": {
   "display_name": "Python 3",
   "language": "python",
   "name": "python3"
  },
  "language_info": {
   "codemirror_mode": {
    "name": "ipython",
    "version": 3
   },
   "file_extension": ".py",
   "mimetype": "text/x-python",
   "name": "python",
   "nbconvert_exporter": "python",
   "pygments_lexer": "ipython3",
   "version": "3.12.0"
  }
 },
 "nbformat": 4,
 "nbformat_minor": 2
}
