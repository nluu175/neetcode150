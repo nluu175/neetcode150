{
 "cells": [
  {
   "cell_type": "markdown",
   "metadata": {},
   "source": [
    "# Two Integer Sum\n",
    "\n",
    "Given an array of integers nums and an integer target, return the indices i and j such that nums[i] + nums[j] == target and i != j.\n",
    "\n",
    "You may assume that every input has exactly one pair of indices i and j that satisfy the condition.\n",
    "\n",
    "Return the answer with the smaller index first.\n",
    "\n",
    "## Example 1:\n",
    "\n",
    "Input:\n",
    "`nums = [3,4,5,6], target = 7`\n",
    "\n",
    "Output: `[0,1]`\n",
    "Explanation: `nums[0] + nums[1] == 7`, so we return `[0, 1]`.\n",
    "\n",
    "## Example 2:\n",
    "\n",
    "Input: `nums = [4,5,6], target = 10`\n",
    "\n",
    "Output: `[0,2]`\n",
    "\n",
    "## Example 3:\n",
    "\n",
    "Input: `nums = [5,5], target = 10`\n",
    "\n",
    "Output: `[0,1]`\n",
    "\n",
    "## Constraints:\n",
    "\n",
    "```py\n",
    "2 <= nums.length <= 1000\n",
    "-10,000,000 <= nums[i] <= 10,000,000\n",
    "-10,000,000 <= target <= 10,000,000\n",
    "```\n"
   ]
  },
  {
   "cell_type": "markdown",
   "metadata": {},
   "source": [
    "nums = [3,4,5,6], target = 7\n",
    "\n",
    "Output: [0,1]\n",
    "\n",
    "We will have a dictionary/hasmap to keeptrack of the complement.\n",
    "We iterate nums, store the complement (aka. nums - nums[i]) then check if nums[i] is in nums\n"
   ]
  },
  {
   "cell_type": "code",
   "execution_count": 16,
   "metadata": {},
   "outputs": [],
   "source": [
    "def solution1(nums: list[int], target: int) -> int:\n",
    "    indexes = {}\n",
    "\n",
    "    for i in range(len(nums)):\n",
    "        if (target - nums[i]) in indexes:\n",
    "            return [indexes[target - nums[i]], i]\n",
    "        else:\n",
    "            indexes[nums[i]] = i\n"
   ]
  },
  {
   "cell_type": "code",
   "execution_count": 17,
   "metadata": {},
   "outputs": [
    {
     "name": "stdout",
     "output_type": "stream",
     "text": [
      "[0, 1]\n",
      "[0, 2]\n"
     ]
    }
   ],
   "source": [
    "nums = [3, 4, 5, 6]\n",
    "target = 7\n",
    "\n",
    "print(solution1(nums=nums, target=target))\n",
    "\n",
    "nums = [4, 5, 6]\n",
    "target = 10\n",
    "\n",
    "print(solution1(nums=nums, target=target))\n"
   ]
  }
 ],
 "metadata": {
  "kernelspec": {
   "display_name": "Python 3",
   "language": "python",
   "name": "python3"
  },
  "language_info": {
   "codemirror_mode": {
    "name": "ipython",
    "version": 3
   },
   "file_extension": ".py",
   "mimetype": "text/x-python",
   "name": "python",
   "nbconvert_exporter": "python",
   "pygments_lexer": "ipython3",
   "version": "3.12.0"
  }
 },
 "nbformat": 4,
 "nbformat_minor": 2
}
