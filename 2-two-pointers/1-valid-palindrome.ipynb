{
 "cells": [
  {
   "cell_type": "markdown",
   "metadata": {},
   "source": [
    "# Is Palindrome\n",
    "\n",
    "Given a string s, return true if it is a palindrome, otherwise return false.\n",
    "\n",
    "A palindrome is a string that reads the same forward and backward. It is also case-insensitive and ignores all non-alphanumeric characters.\n",
    "\n",
    "## Example 1:\n",
    "\n",
    "Input: `s = \"Was it a car or a cat I saw?\"`\n",
    "\n",
    "Output: `true`\n",
    "Explanation: After considering only alphanumerical characters we have \"wasitacaroracatisaw\", which is a palindrome.\n",
    "\n",
    "## Example 2:\n",
    "\n",
    "Input: `s = \"tab a cat\"`\n",
    "\n",
    "Output: `false`\n",
    "Explanation: \"tabacat\" is not a palindrome.\n",
    "\n",
    "Constraints:\n",
    "\n",
    "`1 <= s.length <= 1000`\n",
    "s is made up of only printable ASCII characters.\n"
   ]
  },
  {
   "cell_type": "markdown",
   "metadata": {},
   "source": []
  },
  {
   "cell_type": "code",
   "execution_count": null,
   "metadata": {},
   "outputs": [],
   "source": [
    "def isPalindrome(s: str) -> bool:\n",
    "    left = 0\n",
    "    right = len(s) - 1\n",
    "    while left < right:\n",
    "        if s[left] != s[right]:\n",
    "            return False\n",
    "        left += 1\n",
    "        right -= 1\n",
    "    return True\n"
   ]
  },
  {
   "cell_type": "markdown",
   "metadata": {},
   "source": [
    "Time Complexity should be O(n) for n = len(s) and Space Complexity should be O(1)"
   ]
  },
  {
   "cell_type": "code",
   "execution_count": null,
   "metadata": {},
   "outputs": [],
   "source": [
    "# This approach checks for alphanumeric characters as well.\n",
    "def isPalindrome(s: str) -> bool:\n",
    "    left, right = 0, len(s) - 1\n",
    "\n",
    "    while left < right:\n",
    "        while left < right and not alphaNum(s[left]):\n",
    "            left += 1\n",
    "        while right > left and not alphaNum(s[right]):\n",
    "            right -= 1\n",
    "        if s[left].lower() != s[right].lower():\n",
    "            return False\n",
    "        left, right = left + 1, right - 1\n",
    "    return True\n",
    "\n",
    "\n",
    "def alphaNum(c):\n",
    "    return (\n",
    "        ord(\"A\") <= ord(c) <= ord(\"Z\")\n",
    "        or ord(\"a\") <= ord(c) <= ord(\"z\")\n",
    "        or ord(\"0\") <= ord(c) <= ord(\"9\")\n",
    "    )"
   ]
  }
 ],
 "metadata": {
  "kernelspec": {
   "display_name": "Python 3",
   "language": "python",
   "name": "python3"
  },
  "language_info": {
   "name": "python",
   "version": "3.12.0"
  }
 },
 "nbformat": 4,
 "nbformat_minor": 2
}
