{
 "cells": [
  {
   "cell_type": "markdown",
   "metadata": {},
   "source": [
    "# Two Integer Sum II\n",
    "\n",
    "Given an array of integers numbers that is sorted in non-decreasing order.\n",
    "\n",
    "Return the indices (1-indexed) of two numbers, [index1, index2], such that they add up to a given target number target and index1 < index2. Note that index1 and index2 cannot be equal, therefore you may not use the same element twice.\n",
    "\n",
    "There will always be exactly one valid solution.\n",
    "\n",
    "Your solution must use O(1) additional space.\n",
    "\n",
    "## Example 1:\n",
    "\n",
    "Input: numbers = [1,2,3,4], target = 3\n",
    "\n",
    "Output: [1,2]\n",
    "Explanation:\n",
    "The sum of 1 and 2 is 3. Since we are assuming a 1-indexed array, index1 = 1, index2 = 2. We return [1, 2].\n",
    "\n",
    "Constraints:\n",
    "\n",
    "2 <= numbers.length <= 1000\n",
    "-1000 <= numbers[i] <= 1000\n",
    "-1000 <= target <= 1000\n"
   ]
  },
  {
   "cell_type": "code",
   "execution_count": null,
   "metadata": {},
   "outputs": [],
   "source": [
    "# Brute Force\n",
    "class Solution:\n",
    "    def twoSum(self, numbers: List[int], target: int) -> List[int]:\n",
    "        for i in range(len(numbers)):\n",
    "            for j in range(i + 1, len(numbers)):\n",
    "                if numbers[i] + numbers[j] == target:\n",
    "                    return [i + 1, j + 1]\n",
    "        return []"
   ]
  },
  {
   "cell_type": "code",
   "execution_count": null,
   "metadata": {},
   "outputs": [],
   "source": [
    "# Two Pointers\n",
    "class Solution:\n",
    "    def twoSum(self, numbers: List[int], target: int) -> List[int]:\n",
    "        for i in range(len(numbers)):\n",
    "            l, r = i + 1, len(numbers) - 1\n",
    "            tmp = target - numbers[i]\n",
    "            while l <= r:\n",
    "                mid = l + (r - l) // 2\n",
    "                if numbers[mid] == tmp:\n",
    "                    return [i + 1, mid + 1]\n",
    "                elif numbers[mid] < tmp:\n",
    "                    l = mid + 1\n",
    "                else:\n",
    "                    r = mid - 1\n",
    "        return []"
   ]
  },
  {
   "cell_type": "code",
   "execution_count": null,
   "metadata": {},
   "outputs": [],
   "source": [
    "# Hash Map\n",
    "class Solution:\n",
    "    def twoSum(self, numbers: List[int], target: int) -> List[int]:\n",
    "        mp = defaultdict(int)\n",
    "        for i in range(len(numbers)):\n",
    "            tmp = target - numbers[i]\n",
    "            if mp[tmp]:\n",
    "                return [mp[tmp], i + 1]\n",
    "            mp[numbers[i]] = i + 1\n",
    "        return []"
   ]
  },
  {
   "cell_type": "code",
   "execution_count": null,
   "metadata": {},
   "outputs": [],
   "source": [
    "class Solution:\n",
    "    def twoSum(self, numbers: List[int], target: int) -> List[int]:\n",
    "        l, r = 0, len(numbers) - 1\n",
    "\n",
    "        while l < r:\n",
    "            curSum = numbers[l] + numbers[r]\n",
    "\n",
    "            if curSum > target:\n",
    "                r -= 1\n",
    "            elif curSum < target:\n",
    "                l += 1\n",
    "            else:\n",
    "                return [l + 1, r + 1]\n",
    "        return []"
   ]
  },
  {
   "cell_type": "markdown",
   "metadata": {},
   "source": [
    "Since the input list `numbers` is alreay sorted, we can do 2 pointers for this.\n",
    "Also, a soluution is always guaranteed.\n",
    "We will increase `l` or decrease `r` based on the value of `curSum`.\n",
    "If sum is smaller than target, we move left pointer to the right.\n",
    "Similarly, if sum is too big, we move right pointer to the left."
   ]
  }
 ],
 "metadata": {
  "kernelspec": {
   "display_name": "Python 3",
   "language": "python",
   "name": "python3"
  },
  "language_info": {
   "name": "python",
   "version": "3.12.0"
  }
 },
 "nbformat": 4,
 "nbformat_minor": 2
}
