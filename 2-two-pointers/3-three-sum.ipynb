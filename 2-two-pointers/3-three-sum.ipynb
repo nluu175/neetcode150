{
 "cells": [
  {
   "cell_type": "markdown",
   "metadata": {},
   "source": [
    "# Three Integer Sum\n",
    "\n",
    "Given an integer array nums, return all the triplets [nums[i], nums[j], nums[k]] where nums[i] + nums[j] + nums[k] == 0, and the indices i, j and k are all distinct.\n",
    "\n",
    "The output should not contain any duplicate triplets. You may return the output and the triplets in any order.\n",
    "\n",
    "## Example 1:\n",
    "\n",
    "Input: `nums = [-1,0,1,2,-1,-4]`\n",
    "\n",
    "Output: `[[-1,-1,2],[-1,0,1]]`\n",
    "Explanation:\n",
    "`nums[0] + nums[1] + nums[2] = (-1) + 0 + 1 = 0.`\n",
    "`nums[1] + nums[2] + nums[4] = 0 + 1 + (-1) = 0.`\n",
    "`nums[0] + nums[3] + nums[4] = (-1) + 2 + (-1) = 0.`\n",
    "The distinct triplets are [-1,0,1] and [-1,-1,2].\n",
    "\n",
    "## Example 2:\n",
    "\n",
    "Input: `nums = [0,1,1]`\n",
    "\n",
    "Output: `[]`\n",
    "Explanation: The only possible triplet does not sum up to 0.\n",
    "\n",
    "## Example 3:\n",
    "\n",
    "Input: `nums = [0,0,0]`\n",
    "\n",
    "Output: `[[0,0,0]]`\n",
    "Explanation: The only possible triplet sums up to 0.\n",
    "\n",
    "Constraints:\n",
    "\n",
    "`3 <= nums.length <= 1000`\n",
    "`-10^5 <= nums[i] <= 10^5`\n"
   ]
  },
  {
   "cell_type": "code",
   "execution_count": null,
   "metadata": {},
   "outputs": [],
   "source": [
    "class Solution:\n",
    "    def threeSum(self, nums: List[int]) -> List[List[int]]:\n",
    "        res = []\n",
    "        nums.sort()\n",
    "\n",
    "        for i, a in enumerate(nums):\n",
    "            if a > 0:\n",
    "                break\n",
    "\n",
    "            if i > 0 and a == nums[i - 1]:\n",
    "                continue\n",
    "\n",
    "            l, r = i + 1, len(nums) - 1\n",
    "            while l < r:\n",
    "                threeSum = a + nums[l] + nums[r]\n",
    "                if threeSum > 0:\n",
    "                    r -= 1\n",
    "                elif threeSum < 0:\n",
    "                    l += 1\n",
    "                else:\n",
    "                    res.append([a, nums[l], nums[r]])\n",
    "                    l += 1\n",
    "                    r -= 1\n",
    "                    while nums[l] == nums[l - 1] and l < r:\n",
    "                        l += 1\n",
    "\n",
    "        return res"
   ]
  },
  {
   "cell_type": "markdown",
   "metadata": {},
   "source": [
    "Time is O(n^2) and Space is O(1)/O(n) depending on the sorting algorithm.\n",
    "We sort the array then iterate it, then apply two pointers.\n",
    "\n",
    "```py\n",
    "while nums[l] == nums[l - 1] and l < r:\n",
    "\tl += 1\n",
    "```\n",
    "\n",
    "This code means we move the left pointer to the right if the the value at current left pointer is the same as its right neighbour.\n",
    "We use these lines to avoid duplicate results. This can be done because the array is already sorted.\n"
   ]
  },
  {
   "cell_type": "code",
   "execution_count": null,
   "metadata": {},
   "outputs": [
    {
     "name": "stdout",
     "output_type": "stream",
     "text": [
      "[[-1, -1, 2], [-1, 0, 1]]\n"
     ]
    }
   ],
   "source": [
    "nums = [-1, 0, 1, 2, -1, -4]\n",
    "\n",
    "\n",
    "def my_solution(nums):\n",
    "    res = []\n",
    "    nums.sort()\n",
    "\n",
    "    for i in range(len(nums)):\n",
    "        # if the value is alreayd bigger than 0 and the array is already sorted, there is no way the next values can add up to 0.\n",
    "        if nums[i] > 0:\n",
    "            break\n",
    "\n",
    "        # This is for handling duplicates, but for the first number in the triplet.\n",
    "        # i > 0 ensures we're not at the first element of the array\n",
    "        # a == nums[i - 1] checks if current number is same as the previous number\n",
    "        # If both conditions are true, we skip this iteration to avoid duplicate triplets\n",
    "        if i > 0 and nums[i] == nums[i - 1]:\n",
    "            continue\n",
    "\n",
    "        l = i + 1\n",
    "        r = len(nums) - 1\n",
    "        two_sum = -nums[i]\n",
    "        while l < r:\n",
    "            if nums[l] + nums[r] < two_sum:\n",
    "                l += 1\n",
    "            elif nums[l] + nums[r] > two_sum:\n",
    "                r -= 1\n",
    "            else:\n",
    "                res.append([nums[i], nums[l], nums[r]])\n",
    "                l += 1\n",
    "                r -= 1\n",
    "\n",
    "                while nums[l] == nums[l - 1] and l < r:\n",
    "                    l += 1\n",
    "\n",
    "    return res\n",
    "\n",
    "\n",
    "print(my_solution(nums))"
   ]
  }
 ],
 "metadata": {
  "kernelspec": {
   "display_name": "Python 3",
   "language": "python",
   "name": "python3"
  },
  "language_info": {
   "codemirror_mode": {
    "name": "ipython",
    "version": 3
   },
   "file_extension": ".py",
   "mimetype": "text/x-python",
   "name": "python",
   "nbconvert_exporter": "python",
   "pygments_lexer": "ipython3",
   "version": "3.12.0"
  }
 },
 "nbformat": 4,
 "nbformat_minor": 2
}
