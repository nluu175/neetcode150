{
 "cells": [
  {
   "cell_type": "markdown",
   "metadata": {},
   "source": [
    "# Container With Most Water [Medium]\n",
    "You are given an integer array heights where heights[i] represents the height of the i-th bar.\n",
    "\n",
    "You may choose any two bars to form a container. Return the maximum amount of water a container can store.\n",
    "\n",
    "## Example 1:\n",
    "\n",
    "Input: height = [1,7,2,5,4,7,3,6]\n",
    "\n",
    "Output: 36\n",
    "## Example 2:\n",
    "\n",
    "Input: height = [2,2,2]\n",
    "\n",
    "Output: 4\n",
    "Constraints:\n",
    "\n",
    "2 <= height.length <= 1000\n",
    "0 <= height[i] <= 1000"
   ]
  },
  {
   "cell_type": "markdown",
   "metadata": {},
   "source": [
    "max_area = min(h_i, h_j) x width\n",
    "\t\t = min(...) x () x (j - i)\n",
    "2 pointers: l, r = 0, n - 1. We can't do l, r = 0, 1 because we will miss potential larger container and the width should be very small to start with.\n",
    "\n",
    "If height[left] < height[right], move left pointer right\n",
    "If height[right] < height[left], move right pointer left\n",
    "If equal, you can move either pointer"
   ]
  },
  {
   "cell_type": "code",
   "execution_count": null,
   "metadata": {},
   "outputs": [],
   "source": [
    "from typing import List\n",
    "\n",
    "\n",
    "class Solution:\n",
    "    def maxArea(self, heights: List[int]) -> int:\n",
    "        l, r = 0, len(heights) - 1\n",
    "        max_area = 0\n",
    "\n",
    "        while l < r:\n",
    "            width = r - l\n",
    "            height = min(heights[l], heights[r])\n",
    "            max_area = max(max_area, width * height)\n",
    "\n",
    "            # Move pointer at smaller height inward\n",
    "            if heights[l] < heights[r]:\n",
    "                l += 1\n",
    "            else:\n",
    "                r -= 1\n",
    "\n",
    "        return max_area"
   ]
  }
 ],
 "metadata": {
  "kernelspec": {
   "display_name": "Python 3",
   "language": "python",
   "name": "python3"
  },
  "language_info": {
   "name": "python",
   "version": "3.12.0"
  }
 },
 "nbformat": 4,
 "nbformat_minor": 2
}
