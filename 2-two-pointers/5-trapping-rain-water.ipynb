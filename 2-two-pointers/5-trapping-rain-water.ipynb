{
 "cells": [
  {
   "cell_type": "markdown",
   "metadata": {},
   "source": [
    "# Trapping Rain Water\n",
    "You are given an array non-negative integers height which represent an elevation map. Each value `height[i]` represents the height of a bar, which has a width of 1.\n",
    "\n",
    "Return the maximum area of water that can be trapped between the bars.\n",
    "\n",
    "## Example 1:\n",
    "\n",
    "Input: `height = [0,2,0,3,1,0,1,3,2,1]`\n",
    "\n",
    "Output: 9\n",
    "Constraints:\n",
    "```\n",
    "1 <= height.length <= 1000\n",
    "0 <= height[i] <= 1000\n",
    "```"
   ]
  }
 ],
 "metadata": {
  "language_info": {
   "name": "python"
  }
 },
 "nbformat": 4,
 "nbformat_minor": 2
}
