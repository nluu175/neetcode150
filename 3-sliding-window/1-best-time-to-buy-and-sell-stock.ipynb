{
 "cells": [
  {
   "cell_type": "markdown",
   "metadata": {},
   "source": [
    "# Buy and Sell Crypto\n",
    "\n",
    "You are given an integer array prices where prices[i] is the price of NeetCoin on the ith day.\n",
    "\n",
    "You may choose a single day to buy one NeetCoin and choose a different day in the future to sell it.\n",
    "\n",
    "Return the maximum profit you can achieve. You may choose to not make any transactions, in which case the profit would be 0.\n",
    "\n",
    "## Example 1:\n",
    "\n",
    "Input: prices = [10,1,5,6,7,1]\n",
    "\n",
    "Output: 6\n",
    "Explanation: Buy prices[1] and sell prices[4], profit = 7 - 1 = 6.\n",
    "\n",
    "## Example 2:\n",
    "\n",
    "Input: prices = [10,8,7,5,2]\n",
    "\n",
    "Output: 0\n",
    "Explanation: No profitable transactions can be made, thus the max profit is 0.\n",
    "\n",
    "Constraints:\n",
    "\n",
    "1 <= prices.length <= 100\n",
    "0 <= prices[i] <= 100\n"
   ]
  },
  {
   "cell_type": "code",
   "execution_count": null,
   "metadata": {},
   "outputs": [],
   "source": [
    "# Brute Force solution\n",
    "# This one iterate over all possible windows.\n",
    "class Solution:\n",
    "    def maxProfit(self, prices: List[int]) -> int:\n",
    "        res = 0\n",
    "        for i in range(len(prices)):\n",
    "            buy = prices[i]\n",
    "            for j in range(i + 1, len(prices)):\n",
    "                sell = prices[j]\n",
    "                res = max(res, sell - buy)\n",
    "        return res"
   ]
  },
  {
   "cell_type": "markdown",
   "metadata": {},
   "source": [
    "From observation, we can see that to have profit, prices[l] must be smaller than prices[r]\n"
   ]
  },
  {
   "cell_type": "code",
   "execution_count": 1,
   "metadata": {},
   "outputs": [
    {
     "name": "stdout",
     "output_type": "stream",
     "text": [
      "6\n"
     ]
    }
   ],
   "source": [
    "prices = [10, 1, 5, 6, 7, 1]\n",
    "\n",
    "\n",
    "# We use a sliding window for this that is bounded by `l` and `r` variables.\n",
    "# We also use the fact that prices[l] < prices[r] to generate profit.\n",
    "# That's why whenever prices[l] > prices[r], we update l = r.\n",
    "def my_solution(prices):\n",
    "    l, r = 0, 1\n",
    "    maxP = 0\n",
    "\n",
    "    while r < len(prices):\n",
    "        if prices[l] < prices[r]:\n",
    "            profit = prices[r] - prices[l]\n",
    "            maxP = max(maxP, profit)\n",
    "        else:\n",
    "            l = r\n",
    "        r += 1\n",
    "    return maxP\n",
    "\n",
    "\n",
    "print(my_solution(prices))\n"
   ]
  },
  {
   "cell_type": "markdown",
   "metadata": {},
   "source": [
    "We can also solve this using Dynamic Programming"
   ]
  },
  {
   "cell_type": "code",
   "execution_count": null,
   "metadata": {},
   "outputs": [],
   "source": [
    "class Solution:\n",
    "    def maxProfit(self, prices: List[int]) -> int:\n",
    "        maxP = 0\n",
    "        minBuy = prices[0]\n",
    "\n",
    "        for sell in prices:\n",
    "            maxP = max(maxP, sell - minBuy)\n",
    "            minBuy = min(minBuy, sell)\n",
    "        return maxP"
   ]
  }
 ],
 "metadata": {
  "kernelspec": {
   "display_name": "Python 3",
   "language": "python",
   "name": "python3"
  },
  "language_info": {
   "codemirror_mode": {
    "name": "ipython",
    "version": 3
   },
   "file_extension": ".py",
   "mimetype": "text/x-python",
   "name": "python",
   "nbconvert_exporter": "python",
   "pygments_lexer": "ipython3",
   "version": "3.12.0"
  }
 },
 "nbformat": 4,
 "nbformat_minor": 2
}
