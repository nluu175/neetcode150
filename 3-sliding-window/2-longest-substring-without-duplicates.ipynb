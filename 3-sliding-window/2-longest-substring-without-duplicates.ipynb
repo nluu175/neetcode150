{
 "cells": [
  {
   "cell_type": "markdown",
   "metadata": {},
   "source": [
    "# Longest Substring Without Duplicates\n",
    "\n",
    "Given a string s, find the length of the longest substring without duplicate characters.\n",
    "\n",
    "A substring is a contiguous sequence of characters within a string.\n",
    "\n",
    "## Example 1:\n",
    "\n",
    "Input: s = \"zxyzxyz\"\n",
    "\n",
    "Output: 3\n",
    "Explanation: The string \"xyz\" is the longest without duplicate characters.\n",
    "\n",
    "## Example 2:\n",
    "\n",
    "Input: s = \"xxxx\"\n",
    "\n",
    "Output: 1\n",
    "## Constraints:\n",
    "\n",
    "0 <= s.length <= 1000\n",
    "s may consist of printable ASCII characters.\n"
   ]
  },
  {
   "cell_type": "code",
   "execution_count": 4,
   "metadata": {},
   "outputs": [
    {
     "name": "stdout",
     "output_type": "stream",
     "text": [
      "3\n"
     ]
    }
   ],
   "source": [
    "def mySolution(s):\n",
    "    if not s:  # handle empty string\n",
    "        return 0\n",
    "\n",
    "    l = 0\n",
    "    maxLen = 1  # initialize with 1 since single char is always valid\n",
    "    chars = set()\n",
    "\n",
    "    for r in range(len(s)):\n",
    "        # While we have duplicate, shrink window\n",
    "        while s[r] in chars:\n",
    "            chars.remove(s[l])\n",
    "            l += 1\n",
    "\n",
    "        chars.add(s[r])\n",
    "        maxLen = max(maxLen, r - l + 1)\n",
    "\n",
    "    return maxLen\n",
    "\n",
    "\n",
    "s = \"zxyzxyz\"\n",
    "\n",
    "print(mySolution(s))"
   ]
  },
  {
   "cell_type": "markdown",
   "metadata": {},
   "source": [
    "\"zxyzxyz\"\n",
    " l\n",
    " r        # chars = {z}, maxLen = 1\n",
    "\n",
    "\"zxyzxyz\"\n",
    " l\n",
    "  r       # chars = {z,x}, maxLen = 2\n",
    "\n",
    "\"zxyzxyz\"\n",
    " l\n",
    "   r      # chars = {z,x,y}, maxLen = 3\n",
    "\n",
    "\"zxyzxyz\"\n",
    "  l\n",
    "    r     # z already exists, remove first z, chars = {x,y,z}, maxLen = 3\n",
    "\n",
    "# And so on..."
   ]
  }
 ],
 "metadata": {
  "kernelspec": {
   "display_name": "Python 3",
   "language": "python",
   "name": "python3"
  },
  "language_info": {
   "codemirror_mode": {
    "name": "ipython",
    "version": 3
   },
   "file_extension": ".py",
   "mimetype": "text/x-python",
   "name": "python",
   "nbconvert_exporter": "python",
   "pygments_lexer": "ipython3",
   "version": "3.12.0"
  }
 },
 "nbformat": 4,
 "nbformat_minor": 2
}
