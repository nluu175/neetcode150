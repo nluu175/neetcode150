{
 "cells": [
  {
   "cell_type": "markdown",
   "metadata": {},
   "source": [
    "# Longest Repeating Substring With Replacement\n",
    "\n",
    "You are given a string s consisting of only uppercase english characters and an integer k. You can choose up to k characters of the string and replace them with any other uppercase English character.\n",
    "\n",
    "After performing at most k replacements, return the length of the longest substring which contains only one distinct character.\n",
    "\n",
    "## Example 1:\n",
    "\n",
    "- Input: s = \"XYYX\", k = 2\n",
    "\n",
    "- Output: 4\n",
    "\n",
    "- Explanation: Either replace the 'X's with 'Y's, or replace the 'Y's with 'X's.\n",
    "\n",
    "## Example 2:\n",
    "\n",
    "- Input: s = \"AAABABB\", k = 1\n",
    "\n",
    "- Output: 5\n",
    "\n",
    "## Constraints:\n",
    "\n",
    "`1 <= s.length <= 1000`\n",
    "`0 <= k <= s.length`\n"
   ]
  },
  {
   "cell_type": "markdown",
   "metadata": {},
   "source": [
    "Im thinking about find for a longest substring with k non-dominant chars?"
   ]
  },
  {
   "cell_type": "code",
   "execution_count": null,
   "metadata": {},
   "outputs": [],
   "source": [
    "# Brute force\n",
    "class Solution:\n",
    "    def characterReplacement(self, s: str, k: int) -> int:\n",
    "        res = 0\n",
    "        for i in range(len(s)):\n",
    "            count, maxf = {}, 0\n",
    "            for j in range(i, len(s)):\n",
    "                count[s[j]] = 1 + count.get(s[j], 0)\n",
    "                maxf = max(maxf, count[s[j]])\n",
    "                if (j - i + 1) - maxf <= k:\n",
    "                    res = max(res, j - i + 1)\n",
    "        return res\n",
    "\n",
    "\n",
    "s, k = \"XYYX\", 2\n",
    "s, k = \"AAABABB\", 1"
   ]
  },
  {
   "cell_type": "code",
   "execution_count": null,
   "metadata": {},
   "outputs": [],
   "source": [
    "class Solution:\n",
    "    def characterReplacement(self, s: str, k: int) -> int:\n",
    "        res = 0\n",
    "        charSet = set(s)\n",
    "\n",
    "        for c in charSet:\n",
    "            count = 0\n",
    "            l = 0\n",
    "            for r in range(len(s)):\n",
    "                if s[r] == c:\n",
    "                    count += 1\n",
    "\n",
    "                # r - l + 1 is the lengh of current window\n",
    "                # we subtract by `count` to get the number of non-domninant/need to be replaced characters.\n",
    "                while (r - l + 1) - count > k:\n",
    "                    if s[l] == c:\n",
    "                        count -= 1\n",
    "                    l += 1\n",
    "\n",
    "                res = max(res, r - l + 1)\n",
    "        return res\n",
    "\n",
    "\n",
    "s, k = \"XYYX\", 2\n",
    "s, k = \"AAABABB\", 1"
   ]
  }
 ],
 "metadata": {
  "kernelspec": {
   "display_name": "Python 3",
   "language": "python",
   "name": "python3"
  },
  "language_info": {
   "name": "python",
   "version": "3.12.0"
  }
 },
 "nbformat": 4,
 "nbformat_minor": 2
}
