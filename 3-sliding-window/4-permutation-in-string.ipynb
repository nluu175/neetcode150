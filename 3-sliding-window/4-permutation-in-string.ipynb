{
 "cells": [
  {
   "cell_type": "markdown",
   "metadata": {},
   "source": [
    "# Permutation in String [Medium]\n",
    "You are given two strings s1 and s2.\n",
    "\n",
    "Return true if s2 contains a permutation of s1, or false otherwise. That means if a permutation of s1 exists as a substring of s2, then return true.\n",
    "\n",
    "Both strings only contain lowercase letters.\n",
    "\n",
    "## Example 1:\n",
    "\n",
    "Input: `s1 = \"abc\", s2 = \"lecabee\"`\n",
    "\n",
    "Output: `true`\n",
    "Explanation: The substring \"cab\" is a permutation of \"abc\" and is present in \"lecabee\".\n",
    "\n",
    "## Example 2:\n",
    "\n",
    "Input: `s1 = \"abc\", s2 = \"lecaabee\"`\n",
    "\n",
    "Output: `false`\n",
    "Constraints: `1 <= s1.length, s2.length <= 1000`\n"
   ]
  },
  {
   "cell_type": "markdown",
   "metadata": {},
   "source": [
    "# Time and Space Complexity?|\n",
    "You should aim for a solution with O(n) time and O(1) space, where n is the maximum of the lengths of the two strings."
   ]
  },
  {
   "cell_type": "markdown",
   "metadata": {},
   "source": [
    "I'm thinking about a hashmap??\n",
    "\n",
    "```\n",
    "if len(s1) > len(s2):\n",
    "\treturn False\n",
    "\n",
    "\n",
    "hash = { char: occurence }\n",
    "\n",
    "loop: 0 -> len(s1) - 1:\n",
    "\thash.add()\n",
    "loop: 0 -> len(s2) - 1:\n",
    "\tif exists:\n",
    "\t\tremove\n",
    "\tif nothing left in s1:\n",
    "\t\treturn True\n",
    "\t\n",
    "return False\n",
    "```\n",
    "This should take O(n). \n",
    "\n",
    "## Issue?\n",
    "Hashmap should have a fixed size of O(26).\n",
    "\n",
    "This should not work since we are looking for the PERMUTATION, meaning we need the characters to be a substring.\n",
    "=> How do we fix this?\n",
    "=> We can use Sliding Window"
   ]
  },
  {
   "cell_type": "code",
   "execution_count": null,
   "metadata": {},
   "outputs": [
    {
     "name": "stdout",
     "output_type": "stream",
     "text": [
      "True\n"
     ]
    }
   ],
   "source": [
    "class Solution:\n",
    "    def checkInclusion(self, s1: str, s2: str) -> bool:\n",
    "        if len(s1) > len(s2):\n",
    "            return False\n",
    "\n",
    "        # the idea is maintaining the matches equal to 26.\n",
    "        # s1 = \"abc\"\n",
    "        # s2 = \"lecabee\"\n",
    "        s1Count, s2Count = [0] * 26, [0] * 26\n",
    "        for i in range(len(s1)):\n",
    "            s1Count[ord(s1[i]) - ord(\"a\")] += 1\n",
    "            s2Count[ord(s2[i]) - ord(\"a\")] += 1\n",
    "        # now, for this current ex, we have\n",
    "        # s1Count = {0: 1, 1: 1, 2:1, ... the rest should have values of 0}\n",
    "        # s2Count = {index of l: 1, index of e: 1, index of c: 1}\n",
    "\n",
    "        # compare hash map!! if matches == 26, meaning they have the same charCount\n",
    "        # matches count the number of matches. 26 is the number of letters in the english alphabet.\n",
    "        matches = 0\n",
    "        for i in range(26):\n",
    "            matches += 1 if s1Count[i] == s2Count[i] else 0\n",
    "        # after the previous loop, matches should be equal to 1\n",
    "\n",
    "        l = 0\n",
    "        # why range(len(s1), len(s2))?\n",
    "        # for ex. here we have range(3, 7), meaning r is in [3,4,5,6,7]\n",
    "        # doing so, we always keep a window of size len(s1)\n",
    "        for r in range(len(s1), len(s2)):\n",
    "            if matches == 26:\n",
    "                return True\n",
    "\n",
    "            # index 0 is a, index 25 is z\n",
    "            # index here is index of s2[r]\n",
    "            index = ord(s2[r]) - ord(\"a\")\n",
    "\n",
    "            # add count for s2[r] to the hashmap s2Count\n",
    "            s2Count[index] += 1\n",
    "\n",
    "            # new match after increment\n",
    "            if s1Count[index] == s2Count[index]:\n",
    "                matches += 1\n",
    "            # we just broke the previous match\n",
    "            # if we do else instead of elif [condition], we might break the code where we decrease the matches even though it was already\n",
    "            # not matched before.\n",
    "            elif s1Count[index] + 1 == s2Count[index]:\n",
    "                matches -= 1\n",
    "\n",
    "            index = ord(s2[l]) - ord(\"a\")\n",
    "\n",
    "            # we decraese the count of the left index, then move it to the right by 1 unit.\n",
    "            s2Count[index] -= 1\n",
    "\n",
    "            if s1Count[index] == s2Count[index]:\n",
    "                matches += 1\n",
    "            # we break a match in this case, thus decrease `matches`\n",
    "            # watch this one carefully `s2Count[index] -= 1`\n",
    "            elif s1Count[index] - 1 == s2Count[index]:\n",
    "                matches -= 1\n",
    "            l += 1\n",
    "\n",
    "        return matches == 26\n",
    "\n",
    "\n",
    "s1 = \"abc\"\n",
    "s2 = \"lecabee\"\n",
    "\n",
    "sol = Solution()\n",
    "res = sol.checkInclusion(s1, s2)\n",
    "print(res)\n"
   ]
  }
 ],
 "metadata": {
  "kernelspec": {
   "display_name": "Python 3",
   "language": "python",
   "name": "python3"
  },
  "language_info": {
   "codemirror_mode": {
    "name": "ipython",
    "version": 3
   },
   "file_extension": ".py",
   "mimetype": "text/x-python",
   "name": "python",
   "nbconvert_exporter": "python",
   "pygments_lexer": "ipython3",
   "version": "3.12.0"
  }
 },
 "nbformat": 4,
 "nbformat_minor": 2
}
