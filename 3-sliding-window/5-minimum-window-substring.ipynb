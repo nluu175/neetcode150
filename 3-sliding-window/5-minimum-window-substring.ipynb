{
 "cells": [
  {
   "cell_type": "markdown",
   "metadata": {},
   "source": [
    "# Minimum Window Substring [Hard]\n",
    "Given two strings s and t, return the shortest substring of s such that every character in t, including duplicates, is present in the substring. If such a substring does not exist, return an empty string \"\".\n",
    "\n",
    "You may assume that the correct output is always unique.\n",
    "\n",
    "## Example 1:\n",
    "\n",
    "Input: `s = \"OUZODYXAZV\", t = \"XYZ\"`\n",
    "\n",
    "Output: \"YXAZ\"\n",
    "Explanation: \"YXAZ\" is the shortest substring that includes \"X\", \"Y\", and \"Z\" from string t.\n",
    "\n",
    "## Example 2:\n",
    "\n",
    "Input: `s = \"xyz\", t = \"xyz\"`\n",
    "\n",
    "Output: \"xyz\"\n",
    "## Example 3:\n",
    "\n",
    "Input: `s = \"x\", t = \"xy\"`\n",
    "\n",
    "Output: \"\"\n",
    "Constraints:\n",
    "```\n",
    "1 <= s.length <= 1000\n",
    "1 <= t.length <= 1000\n",
    "s and t consist of uppercase and lowercase English letters.\n",
    "```"
   ]
  },
  {
   "cell_type": "markdown",
   "metadata": {},
   "source": [
    "- t must have shorter length than s. aka. len(t) < len(s)\n",
    "- im thinking about using a hashmap [0] * 26 to keep track of the occurences.\n",
    "- run a loop through `t` to count:\n",
    "- for ex, \"abca\" should be translated to {0: 2, 1: 1, c: 1}\n",
    "- ?? now do have a count dict for `s` as well? can we follow the same approach as 4?\n",
    "- we can use `matches` and keep editing the windows till it no longer matches?\n",
    "\n",
    "- we can start with l=0, r=1. \n",
    "\t> - we increase `r` until we have enough characters from `t`.\n",
    "\t> - when we have enough from `t`. We increase `l` until the substring no longer satisfies\n",
    "\t> - Now we increase `r` again.\n"
   ]
  },
  {
   "cell_type": "code",
   "execution_count": null,
   "metadata": {},
   "outputs": [],
   "source": [
    "class Solution:\n",
    "    def minWindow(self, s: str, t: str) -> str:\n",
    "        if t == \"\":\n",
    "            return \"\"\n",
    "\n",
    "\t\t# - countT is a dict of occurence of each char in `t`\n",
    "\t\t# len(countT) is the number of different chars in `t`\n",
    "\t\t# - window tracks current frequency of chars in our sliding window\n",
    "        countT, window = {}, {}\n",
    "        for c in t:\n",
    "            countT[c] = 1 + countT.get(c, 0)\n",
    "\n",
    "\t\t# need is actually the number of different chars in `t`\n",
    "        have, need = 0, len(countT)\n",
    "        \n",
    "        # res is a list of the form [l, r]. \n",
    "        # resLen is lengh of res\n",
    "        # we compute resLen using r - l + 1\n",
    "        # NOTE: we only increase note if the character is in countT\n",
    "        # and they have the same occurence within `t`\n",
    "        res, resLen = [-1, -1], float(\"infinity\")\n",
    "        l = 0\n",
    "        for r in range(len(s)):\n",
    "            c = s[r]\n",
    "            window[c] = 1 + window.get(c, 0)\n",
    "\n",
    "            if c in countT and window[c] == countT[c]:\n",
    "                have += 1\n",
    "\n",
    "\t\t\t# we increase l as long as `have` and `need` are equal\n",
    "            while have == need:\n",
    "                # update our result\n",
    "                if (r - l + 1) < resLen:\n",
    "                    res = [l, r]\n",
    "                    resLen = r - l + 1\n",
    "                \n",
    "                # pop from the left of our window\n",
    "                window[s[l]] -= 1\n",
    "                # if character in the most-left of the window is in `t` \n",
    "                # and the count of it in the window is less than the needed amount,\n",
    "                # we decrement have\n",
    "                if s[l] in countT and window[s[l]] < countT[s[l]]:\n",
    "                    have -= 1\n",
    "                l += 1\n",
    "        l, r = res\n",
    "        \n",
    "        resultString = \"\"\n",
    "        if resLen != float(\"infinity\"):\n",
    "            resultString = s[l : r + 1]\n",
    "            \n",
    "        return resultString\n",
    "\n",
    "s = \"OUZODYXAZV\"\n",
    "t = \"XYZ\"\n",
    "sol = Solution()\n",
    "res = sol.minWindow(s, t)\n",
    "print(res)"
   ]
  },
  {
   "cell_type": "code",
   "execution_count": 4,
   "metadata": {},
   "outputs": [
    {
     "name": "stdout",
     "output_type": "stream",
     "text": [
      "8\n"
     ]
    },
    {
     "data": {
      "text/plain": [
       "'abc'"
      ]
     },
     "execution_count": 4,
     "metadata": {},
     "output_type": "execute_result"
    }
   ],
   "source": [
    "a = \"abcdefgh\"\n",
    "print(len(a))\n",
    "a[0:3]"
   ]
  },
  {
   "cell_type": "code",
   "execution_count": null,
   "metadata": {},
   "outputs": [],
   "source": []
  }
 ],
 "metadata": {
  "kernelspec": {
   "display_name": "Python 3",
   "language": "python",
   "name": "python3"
  },
  "language_info": {
   "codemirror_mode": {
    "name": "ipython",
    "version": 3
   },
   "file_extension": ".py",
   "mimetype": "text/x-python",
   "name": "python",
   "nbconvert_exporter": "python",
   "pygments_lexer": "ipython3",
   "version": "3.12.0"
  }
 },
 "nbformat": 4,
 "nbformat_minor": 2
}
